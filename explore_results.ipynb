{
 "cells": [
  {
   "cell_type": "code",
   "execution_count": null,
   "metadata": {},
   "outputs": [],
   "source": [
    "from model import get_new_model, run_validation\n",
    "import torch\n",
    "import matplotlib.pyplot as plt\n",
    "from monai.data import DataLoader\n",
    "from data import get_dataset\n",
    "from loss import get_loss_func\n",
    "%matplotlib inline\n",
    "\n",
    "%load_ext autoreload\n",
    "%autoreload 2"
   ]
  },
  {
   "cell_type": "code",
   "execution_count": null,
   "metadata": {},
   "outputs": [],
   "source": [
    "model = get_new_model()\n",
    "weights = torch.load(\"final_weights (copy).pt\")\n",
    "model.load_state_dict(weights)"
   ]
  },
  {
   "cell_type": "code",
   "execution_count": null,
   "metadata": {},
   "outputs": [],
   "source": [
    "_, dataset = get_dataset(\"/home/espenbfo/datasets/segmentation/Task07_Pancreas/dataset.json\", 1234567)\n",
    "dataloader = DataLoader(dataset,batch_size=1, shuffle=False)\n",
    "\n"
   ]
  },
  {
   "cell_type": "code",
   "execution_count": null,
   "metadata": {},
   "outputs": [],
   "source": [
    "it = iter(iter(dataloader))"
   ]
  },
  {
   "cell_type": "code",
   "execution_count": null,
   "metadata": {},
   "outputs": [],
   "source": [
    "batch = next(it)\n",
    "\n",
    "preds = run_validation(model, batch[\"image\"]).detach()\n",
    "preds = torch.softmax(preds, dim=1)\n"
   ]
  },
  {
   "cell_type": "code",
   "execution_count": null,
   "metadata": {},
   "outputs": [],
   "source": [
    "import numpy as np\n",
    "MIN_LABEL_SMOOTHING = 1e-5\n",
    "MAX_LABEL_SMOOTHING = 1e3\n",
    "\n",
    "smoothing = MIN_LABEL_SMOOTHING + (MAX_LABEL_SMOOTHING-MIN_LABEL_SMOOTHING)*(1+np.cos(4/100*np.pi))/2\n",
    "print(f\"{smoothing:.2g}\")"
   ]
  },
  {
   "cell_type": "code",
   "execution_count": null,
   "metadata": {},
   "outputs": [],
   "source": [
    "length = preds.shape[0]\n",
    "labels = [0,1,2]\n",
    "length = len(labels)\n",
    "print(preds.min())\n",
    "print(preds.max())\n",
    "print(\"0:\",(batch[\"label\"]==0).sum())\n",
    "print(\"1:\",( batch[\"label\"]==1).sum())\n",
    "print(\"2:\", (batch[\"label\"]==2).sum())\n",
    "loss_func = get_loss_func(loss_smoothing=1e3)\n",
    "fig,axes = plt.subplots(length, 3, figsize=(6, 2*length))\n",
    "\n",
    "slic = 16\n",
    "\n",
    "\n",
    "for i in range(length):\n",
    "    prediction = preds[0][i, :,:,slic]\n",
    "    image = batch[\"image\"][0][0, :,:,slic]\n",
    "    label = batch[\"label\"][0][0, :,:,slic] == i\n",
    "    print((batch[\"label\"]==i).sum())\n",
    "    loss = loss_func(preds, batch[\"label\"]).detach()\n",
    "    print(f\"{i}, {prediction.max():.2f}, {prediction.sum():.2f}, {loss:.2f}\")\n",
    "    axes[i][0].imshow(image)\n",
    "    axes[i][1].imshow(label)\n",
    "    axes[i][2].imshow(prediction)"
   ]
  },
  {
   "cell_type": "code",
   "execution_count": null,
   "metadata": {},
   "outputs": [],
   "source": [
    "import cv2\n",
    "\n",
    "def make_mp4_from_slices(slices, filename):\n",
    "    slices = np.moveaxis(np.array(slices), 0, 2)\n",
    "    slices*=255\n",
    "    slices = slices.astype(np.uint8)\n",
    "    fourcc = cv2.VideoWriter_fourcc(*'mp4v')\n",
    "    print(slices.shape[:2])\n",
    "    writer = cv2.VideoWriter(filename, fourcc, 5.0, (slices.shape[:2]))\n",
    "\n",
    "    for i in range(slices.shape[3]):\n",
    "        writer.write(slices[:,:,:, i])\n",
    "    writer.release()\n",
    "    "
   ]
  },
  {
   "cell_type": "code",
   "execution_count": null,
   "metadata": {},
   "outputs": [],
   "source": [
    "make_mp4_from_slices(preds[0], \"50epoch.mp4\")"
   ]
  }
 ],
 "metadata": {
  "kernelspec": {
   "display_name": ".venv",
   "language": "python",
   "name": "python3"
  },
  "language_info": {
   "codemirror_mode": {
    "name": "ipython",
    "version": 3
   },
   "file_extension": ".py",
   "mimetype": "text/x-python",
   "name": "python",
   "nbconvert_exporter": "python",
   "pygments_lexer": "ipython3",
   "version": "3.10.12"
  },
  "orig_nbformat": 4
 },
 "nbformat": 4,
 "nbformat_minor": 2
}
