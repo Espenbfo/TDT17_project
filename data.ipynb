{
 "cells": [
  {
   "cell_type": "code",
   "execution_count": null,
   "metadata": {},
   "outputs": [],
   "source": [
    "from monai.data import CacheDataset, DataLoader, Dataset, DistributedSampler, SmartCacheDataset, load_decathlon_datalist\n",
    "from pathlib import Path\n",
    "from monai import transforms\n",
    "import matplotlib.pyplot as plt\n",
    "\n",
    "%matplotlib inline"
   ]
  },
  {
   "cell_type": "code",
   "execution_count": null,
   "metadata": {},
   "outputs": [],
   "source": [
    "dataset_path = Path(\"/home/espenbfo/datasets/segmentation/Task07_Pancreas/dataset.json\")\n",
    "\n",
    "datalist = load_decathlon_datalist(dataset_path)"
   ]
  },
  {
   "cell_type": "code",
   "execution_count": null,
   "metadata": {},
   "outputs": [],
   "source": [
    "print(datalist)\n",
    "\n",
    "keys= [\"image\", \"label\"]\n",
    "train_transforms = transforms.Compose([\n",
    "        transforms.LoadImaged(keys=keys, ensure_channel_first=True),\n",
    "        transforms.Orientationd(keys=keys, axcodes=\"RAS\"),\n",
    "        transforms.ScaleIntensityRanged(\n",
    "                keys=[\"image\"], a_min=-1000, a_max=1000, b_min=0, b_max=1, clip=True\n",
    "            ),\n",
    "        transforms.SpatialPadd(keys=keys, spatial_size=[224, 224, 128]),\n",
    "        transforms.RandSpatialCropSamplesd(\n",
    "        keys=keys,\n",
    "        roi_size=[224, 224, 128],\n",
    "        num_samples=4,\n",
    "        random_center=True,\n",
    "        random_size=False,\n",
    "        ),\n",
    "        transforms.ToTensord(keys=keys),\n",
    "])\n",
    "\n",
    "train_ds = Dataset(data=datalist, transform=train_transforms)"
   ]
  },
  {
   "cell_type": "code",
   "execution_count": null,
   "metadata": {},
   "outputs": [],
   "source": [
    "for i in train_ds:\n",
    "    x = i\n",
    "    print(x[0][\"label\"].max())\n"
   ]
  },
  {
   "cell_type": "code",
   "execution_count": null,
   "metadata": {},
   "outputs": [],
   "source": []
  },
  {
   "cell_type": "code",
   "execution_count": null,
   "metadata": {},
   "outputs": [],
   "source": [
    "img = train_transforms(datalist[0])\n",
    "\n",
    "fig, (a1, a2) = plt.subplots(1, 2)\n",
    "\n",
    "iimg = img[0][\"image\"][0,:,:,64]\n",
    "limg = img[0][\"label\"][0,:,:,64]\n",
    "a1.imshow(iimg)\n",
    "a2.imshow(limg)\n",
    "\n",
    "print(iimg.min(), iimg.max())\n",
    "print(limg.min(), limg.max())"
   ]
  }
 ],
 "metadata": {
  "kernelspec": {
   "display_name": ".venv",
   "language": "python",
   "name": "python3"
  },
  "language_info": {
   "codemirror_mode": {
    "name": "ipython",
    "version": 3
   },
   "file_extension": ".py",
   "mimetype": "text/x-python",
   "name": "python",
   "nbconvert_exporter": "python",
   "pygments_lexer": "ipython3",
   "version": "3.10.12"
  }
 },
 "nbformat": 4,
 "nbformat_minor": 2
}
